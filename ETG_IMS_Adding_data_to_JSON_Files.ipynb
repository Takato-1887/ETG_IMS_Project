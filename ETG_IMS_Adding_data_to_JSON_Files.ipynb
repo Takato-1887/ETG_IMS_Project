{
  "nbformat": 4,
  "nbformat_minor": 0,
  "metadata": {
    "colab": {
      "name": "ETG_IMS.ipynb",
      "provenance": []
    },
    "kernelspec": {
      "name": "python3",
      "display_name": "Python 3"
    },
    "language_info": {
      "name": "python"
    }
  },
  "cells": [
    {
      "cell_type": "markdown",
      "metadata": {
        "id": "JwTVoYbMZArq"
      },
      "source": [
        "#Reading Data From JSON  Files"
      ]
    },
    {
      "cell_type": "code",
      "metadata": {
        "id": "iaNk_LEnZBUa"
      },
      "source": [
        "import json"
      ],
      "execution_count": 1,
      "outputs": []
    },
    {
      "cell_type": "code",
      "metadata": {
        "colab": {
          "base_uri": "https://localhost:8080/",
          "height": 120
        },
        "id": "WsBg6QPSaRyE",
        "outputId": "470177c6-d86b-4175-9155-a15b9e5fb054"
      },
      "source": [
        "fd=open(\"records_initial.json\",\"r\")\n",
        "r=fd.read()\n",
        "fd.close()\n",
        "r\n"
      ],
      "execution_count": 9,
      "outputs": [
        {
          "output_type": "execute_result",
          "data": {
            "application/vnd.google.colaboratory.intrinsic+json": {
              "type": "string"
            },
            "text/plain": [
              "\"{'1001':{'name':'Chocolate Bar' , 'price':40 , 'quantity':10 },\\n'1002':{'name':'Chocolate Cake', 'price':100 , 'quantity':15 },\\n'1003':{'name':'Chocolate Pudding', 'price':80 , 'quantity':10 }, \\n'1004':{'name':'Chocolate Milk Shake', 'price':60 , 'quantity':15 },\\n'1005':{'name':'Chocolate Ice Cream', 'price':75 , 'quantity' :20 }, \\n'1006':{'name':'Vanilla Bar', 'price':40, 'quantity':10},\\n'1007':{'name':'Vanilla Cake' , 'price':100, 'quantity':15 },\\n'1008':{'name':'Vanilla Pudding' , 'price':80 , 'quantity':10 },\\n'1009':{'name':'Vanilla Milk Shake' , 'price':60 , 'quantity':15 },\\n'1010':{'name':'Vanilla Ice Cream' , 'price':75 , 'quantity':20 },\\n'1011':{'name':'Strawberry Bar' ,'price':40, 'quantity':10 },\\n'1012':{'name':'Strawberry Cake' , 'price':100, 'quantity':15 },\\n'1013':{'name':'Strawberry Pudding', 'price':80 , 'quantity':10 },\\n'1014':{'name':'Strawberry Milk Shake' , 'price':60 , 'quantity':15 },\\n'1015':{'name':'Strawberry Ice Cream', 'price':75, 'quantity':20},\\n'1016':{'name':'Mango Bar' , 'price':40, 'quantity':10 },\\n'1017':{'name':'Mango Cake' , 'price':100 , 'quantity':15 },\\n'1018':{'name':'Mango Pudding', 'price':80 , 'quantity':10 },\\n'1019':{'name':'Mango Milk Shake' , 'price':60 , 'quantity':15 },\\n'1020':{'name':'Mango Ice Cream' , 'price':75, 'quantity':20 },\\n'1021':{'name':'Raspberry Bar' , 'price':40 , 'quantity':10 },\\n'1022':{'name':'Raspberry Cake' , 'price':100 , 'quantity':15 },\\n'1023':{'name':'Raspberry Pudding', 'price':80 , 'quantity':10 },\\n'1024':{'name':'Raspberry Milk Shake' , 'price':60 ,'quantity':15},\\n'1025':{'name':'Raspberry Ice Cream' , 'price': 75 , 'quantity':20 }}\""
            ]
          },
          "metadata": {},
          "execution_count": 9
        }
      ]
    },
    {
      "cell_type": "code",
      "metadata": {
        "colab": {
          "base_uri": "https://localhost:8080/",
          "height": 120
        },
        "id": "VY77lVVhaWiy",
        "outputId": "6706eb37-d485-48e0-a662-5cbf7e3dc254"
      },
      "source": [
        "r = r.replace(\"\\'\", \"\\\"\")\n",
        "r"
      ],
      "execution_count": 10,
      "outputs": [
        {
          "output_type": "execute_result",
          "data": {
            "application/vnd.google.colaboratory.intrinsic+json": {
              "type": "string"
            },
            "text/plain": [
              "'{\"1001\":{\"name\":\"Chocolate Bar\" , \"price\":40 , \"quantity\":10 },\\n\"1002\":{\"name\":\"Chocolate Cake\", \"price\":100 , \"quantity\":15 },\\n\"1003\":{\"name\":\"Chocolate Pudding\", \"price\":80 , \"quantity\":10 }, \\n\"1004\":{\"name\":\"Chocolate Milk Shake\", \"price\":60 , \"quantity\":15 },\\n\"1005\":{\"name\":\"Chocolate Ice Cream\", \"price\":75 , \"quantity\" :20 }, \\n\"1006\":{\"name\":\"Vanilla Bar\", \"price\":40, \"quantity\":10},\\n\"1007\":{\"name\":\"Vanilla Cake\" , \"price\":100, \"quantity\":15 },\\n\"1008\":{\"name\":\"Vanilla Pudding\" , \"price\":80 , \"quantity\":10 },\\n\"1009\":{\"name\":\"Vanilla Milk Shake\" , \"price\":60 , \"quantity\":15 },\\n\"1010\":{\"name\":\"Vanilla Ice Cream\" , \"price\":75 , \"quantity\":20 },\\n\"1011\":{\"name\":\"Strawberry Bar\" ,\"price\":40, \"quantity\":10 },\\n\"1012\":{\"name\":\"Strawberry Cake\" , \"price\":100, \"quantity\":15 },\\n\"1013\":{\"name\":\"Strawberry Pudding\", \"price\":80 , \"quantity\":10 },\\n\"1014\":{\"name\":\"Strawberry Milk Shake\" , \"price\":60 , \"quantity\":15 },\\n\"1015\":{\"name\":\"Strawberry Ice Cream\", \"price\":75, \"quantity\":20},\\n\"1016\":{\"name\":\"Mango Bar\" , \"price\":40, \"quantity\":10 },\\n\"1017\":{\"name\":\"Mango Cake\" , \"price\":100 , \"quantity\":15 },\\n\"1018\":{\"name\":\"Mango Pudding\", \"price\":80 , \"quantity\":10 },\\n\"1019\":{\"name\":\"Mango Milk Shake\" , \"price\":60 , \"quantity\":15 },\\n\"1020\":{\"name\":\"Mango Ice Cream\" , \"price\":75, \"quantity\":20 },\\n\"1021\":{\"name\":\"Raspberry Bar\" , \"price\":40 , \"quantity\":10 },\\n\"1022\":{\"name\":\"Raspberry Cake\" , \"price\":100 , \"quantity\":15 },\\n\"1023\":{\"name\":\"Raspberry Pudding\", \"price\":80 , \"quantity\":10 },\\n\"1024\":{\"name\":\"Raspberry Milk Shake\" , \"price\":60 ,\"quantity\":15},\\n\"1025\":{\"name\":\"Raspberry Ice Cream\" , \"price\": 75 , \"quantity\":20 }}'"
            ]
          },
          "metadata": {},
          "execution_count": 10
        }
      ]
    },
    {
      "cell_type": "code",
      "metadata": {
        "id": "y8Let8lMaYmz"
      },
      "source": [
        "record=json.loads(r)\n"
      ],
      "execution_count": 11,
      "outputs": []
    },
    {
      "cell_type": "code",
      "metadata": {
        "colab": {
          "base_uri": "https://localhost:8080/"
        },
        "id": "3gs20z1Yaaas",
        "outputId": "4b141960-fd18-452c-81cf-0387a0ba4ad4"
      },
      "source": [
        "record"
      ],
      "execution_count": 12,
      "outputs": [
        {
          "output_type": "execute_result",
          "data": {
            "text/plain": [
              "{'1001': {'name': 'Chocolate Bar', 'price': 40, 'quantity': 10},\n",
              " '1002': {'name': 'Chocolate Cake', 'price': 100, 'quantity': 15},\n",
              " '1003': {'name': 'Chocolate Pudding', 'price': 80, 'quantity': 10},\n",
              " '1004': {'name': 'Chocolate Milk Shake', 'price': 60, 'quantity': 15},\n",
              " '1005': {'name': 'Chocolate Ice Cream', 'price': 75, 'quantity': 20},\n",
              " '1006': {'name': 'Vanilla Bar', 'price': 40, 'quantity': 10},\n",
              " '1007': {'name': 'Vanilla Cake', 'price': 100, 'quantity': 15},\n",
              " '1008': {'name': 'Vanilla Pudding', 'price': 80, 'quantity': 10},\n",
              " '1009': {'name': 'Vanilla Milk Shake', 'price': 60, 'quantity': 15},\n",
              " '1010': {'name': 'Vanilla Ice Cream', 'price': 75, 'quantity': 20},\n",
              " '1011': {'name': 'Strawberry Bar', 'price': 40, 'quantity': 10},\n",
              " '1012': {'name': 'Strawberry Cake', 'price': 100, 'quantity': 15},\n",
              " '1013': {'name': 'Strawberry Pudding', 'price': 80, 'quantity': 10},\n",
              " '1014': {'name': 'Strawberry Milk Shake', 'price': 60, 'quantity': 15},\n",
              " '1015': {'name': 'Strawberry Ice Cream', 'price': 75, 'quantity': 20},\n",
              " '1016': {'name': 'Mango Bar', 'price': 40, 'quantity': 10},\n",
              " '1017': {'name': 'Mango Cake', 'price': 100, 'quantity': 15},\n",
              " '1018': {'name': 'Mango Pudding', 'price': 80, 'quantity': 10},\n",
              " '1019': {'name': 'Mango Milk Shake', 'price': 60, 'quantity': 15},\n",
              " '1020': {'name': 'Mango Ice Cream', 'price': 75, 'quantity': 20},\n",
              " '1021': {'name': 'Raspberry Bar', 'price': 40, 'quantity': 10},\n",
              " '1022': {'name': 'Raspberry Cake', 'price': 100, 'quantity': 15},\n",
              " '1023': {'name': 'Raspberry Pudding', 'price': 80, 'quantity': 10},\n",
              " '1024': {'name': 'Raspberry Milk Shake', 'price': 60, 'quantity': 15},\n",
              " '1025': {'name': 'Raspberry Ice Cream', 'price': 75, 'quantity': 20}}"
            ]
          },
          "metadata": {},
          "execution_count": 12
        }
      ]
    },
    {
      "cell_type": "code",
      "metadata": {
        "colab": {
          "base_uri": "https://localhost:8080/"
        },
        "id": "_F5ZpUMFcGJJ",
        "outputId": "22f32173-7658-4e23-a5e2-9d5901a32479"
      },
      "source": [
        "type(record)"
      ],
      "execution_count": 13,
      "outputs": [
        {
          "output_type": "execute_result",
          "data": {
            "text/plain": [
              "dict"
            ]
          },
          "metadata": {},
          "execution_count": 13
        }
      ]
    },
    {
      "cell_type": "markdown",
      "metadata": {
        "id": "HeOOoX54tzZx"
      },
      "source": [
        "#Adding data to the record dictionary"
      ]
    },
    {
      "cell_type": "code",
      "metadata": {
        "colab": {
          "base_uri": "https://localhost:8080/"
        },
        "id": "VfX375e4cILq",
        "outputId": "5ac8a101-c5a8-4db8-b70e-d469c7d0d165"
      },
      "source": [
        "lstprodid=[]\n",
        "lstnm=[]\n",
        "lstpr=[]\n",
        "lstqu=[]\n",
        "usr=int(input(\"How many products do you want to add: \"))\n",
        "for i in range(usr):\n",
        "  p1=str(input(\"Enter the ID of product: \"))\n",
        "  lstprodid.append(p1)\n",
        "  n1=str(input(\"Enter the name of product: \"))\n",
        "  lstnm.append(n1)\n",
        "  pr1=int(input(\"Enter the price of product: \"))\n",
        "  lstpr.append(pr1)\n",
        "  q1=int(input(\"Enter the quantity of product: \"))\n",
        "  lstqu.append(q1)\n",
        "\n",
        "print(lstprodid)\n",
        "print(lstnm)\n",
        "print(lstpr)\n",
        "print(lstqu)"
      ],
      "execution_count": 15,
      "outputs": [
        {
          "output_type": "stream",
          "name": "stdout",
          "text": [
            "How many products do you want to add: 5\n",
            "Enter the ID of product: 1026\n",
            "Enter the name of product: Butterscotch Bar\n",
            "Enter the price of product: 40\n",
            "Enter the quantity of product: 5\n",
            "Enter the ID of product: 1027\n",
            "Enter the name of product: Butterscotch Cake\n",
            "Enter the price of product: 140\n",
            "Enter the quantity of product: 8\n",
            "Enter the ID of product: 1028\n",
            "Enter the name of product: Butterscotch Pudding\n",
            "Enter the price of product: 80\n",
            "Enter the quantity of product: 8\n",
            "Enter the ID of product: 1029\n",
            "Enter the name of product: Butterscotch Milk Shake\n",
            "Enter the price of product: 60\n",
            "Enter the quantity of product: 10\n",
            "Enter the ID of product: 1030\n",
            "Enter the name of product: Butterscotch Ice Cream\n",
            "Enter the price of product: 50\n",
            "Enter the quantity of product: 10\n",
            "['1026', '1027', '1028', '1029', '1030']\n",
            "['Butterscotch Bar', 'Butterscotch Cake', 'Butterscotch Pudding', 'Butterscotch Milk Shake', 'Butterscotch Ice Cream']\n",
            "[40, 140, 80, 60, 50]\n",
            "[5, 8, 8, 10, 10]\n"
          ]
        }
      ]
    },
    {
      "cell_type": "code",
      "metadata": {
        "colab": {
          "base_uri": "https://localhost:8080/"
        },
        "id": "8mnrDyU_uB9d",
        "outputId": "787e8a54-a8bf-4d35-c39d-27bcf0f0529d"
      },
      "source": [
        "for i in range(len(lstprodid)):\n",
        "  record[lstprodid[i]]={'name': lstnm[i],'price':lstpr[i],'quantity':lstqu[i]}\n",
        "  \n",
        "\n",
        "record"
      ],
      "execution_count": 18,
      "outputs": [
        {
          "output_type": "execute_result",
          "data": {
            "text/plain": [
              "{'1001': {'name': 'Chocolate Bar', 'price': 40, 'quantity': 10},\n",
              " '1002': {'name': 'Chocolate Cake', 'price': 100, 'quantity': 15},\n",
              " '1003': {'name': 'Chocolate Pudding', 'price': 80, 'quantity': 10},\n",
              " '1004': {'name': 'Chocolate Milk Shake', 'price': 60, 'quantity': 15},\n",
              " '1005': {'name': 'Chocolate Ice Cream', 'price': 75, 'quantity': 20},\n",
              " '1006': {'name': 'Vanilla Bar', 'price': 40, 'quantity': 10},\n",
              " '1007': {'name': 'Vanilla Cake', 'price': 100, 'quantity': 15},\n",
              " '1008': {'name': 'Vanilla Pudding', 'price': 80, 'quantity': 10},\n",
              " '1009': {'name': 'Vanilla Milk Shake', 'price': 60, 'quantity': 15},\n",
              " '1010': {'name': 'Vanilla Ice Cream', 'price': 75, 'quantity': 20},\n",
              " '1011': {'name': 'Strawberry Bar', 'price': 40, 'quantity': 10},\n",
              " '1012': {'name': 'Strawberry Cake', 'price': 100, 'quantity': 15},\n",
              " '1013': {'name': 'Strawberry Pudding', 'price': 80, 'quantity': 10},\n",
              " '1014': {'name': 'Strawberry Milk Shake', 'price': 60, 'quantity': 15},\n",
              " '1015': {'name': 'Strawberry Ice Cream', 'price': 75, 'quantity': 20},\n",
              " '1016': {'name': 'Mango Bar', 'price': 40, 'quantity': 10},\n",
              " '1017': {'name': 'Mango Cake', 'price': 100, 'quantity': 15},\n",
              " '1018': {'name': 'Mango Pudding', 'price': 80, 'quantity': 10},\n",
              " '1019': {'name': 'Mango Milk Shake', 'price': 60, 'quantity': 15},\n",
              " '1020': {'name': 'Mango Ice Cream', 'price': 75, 'quantity': 20},\n",
              " '1021': {'name': 'Raspberry Bar', 'price': 40, 'quantity': 10},\n",
              " '1022': {'name': 'Raspberry Cake', 'price': 100, 'quantity': 15},\n",
              " '1023': {'name': 'Raspberry Pudding', 'price': 80, 'quantity': 10},\n",
              " '1024': {'name': 'Raspberry Milk Shake', 'price': 60, 'quantity': 15},\n",
              " '1025': {'name': 'Raspberry Ice Cream', 'price': 75, 'quantity': 20},\n",
              " '1026': {'name': 'Butterscotch Bar', 'price': 40, 'quantity': 5},\n",
              " '1027': {'name': 'Butterscotch Cake', 'price': 140, 'quantity': 8},\n",
              " '1028': {'name': 'Butterscotch Pudding', 'price': 80, 'quantity': 8},\n",
              " '1029': {'name': 'Butterscotch Milk Shake', 'price': 60, 'quantity': 10},\n",
              " '1030': {'name': 'Butterscotch Ice Cream', 'price': 50, 'quantity': 10}}"
            ]
          },
          "metadata": {},
          "execution_count": 18
        }
      ]
    },
    {
      "cell_type": "markdown",
      "metadata": {
        "id": "4C2HJ8HvvfVF"
      },
      "source": [
        "#Writing new inventory data to json file"
      ]
    },
    {
      "cell_type": "code",
      "metadata": {
        "colab": {
          "base_uri": "https://localhost:8080/"
        },
        "id": "MAYaqX3Uvd85",
        "outputId": "cc3f6ecf-8aaa-4188-bc82-ba864815d34d"
      },
      "source": [
        "js=json.dumps(record)\n",
        "print(js)\n",
        "fd=open(\"records_final.json\",\"w\")\n",
        "fd.write(js)\n",
        "fd.close()"
      ],
      "execution_count": 22,
      "outputs": [
        {
          "output_type": "stream",
          "name": "stdout",
          "text": [
            "{\"1001\": {\"name\": \"Chocolate Bar\", \"price\": 40, \"quantity\": 10}, \"1002\": {\"name\": \"Chocolate Cake\", \"price\": 100, \"quantity\": 15}, \"1003\": {\"name\": \"Chocolate Pudding\", \"price\": 80, \"quantity\": 10}, \"1004\": {\"name\": \"Chocolate Milk Shake\", \"price\": 60, \"quantity\": 15}, \"1005\": {\"name\": \"Chocolate Ice Cream\", \"price\": 75, \"quantity\": 20}, \"1006\": {\"name\": \"Vanilla Bar\", \"price\": 40, \"quantity\": 10}, \"1007\": {\"name\": \"Vanilla Cake\", \"price\": 100, \"quantity\": 15}, \"1008\": {\"name\": \"Vanilla Pudding\", \"price\": 80, \"quantity\": 10}, \"1009\": {\"name\": \"Vanilla Milk Shake\", \"price\": 60, \"quantity\": 15}, \"1010\": {\"name\": \"Vanilla Ice Cream\", \"price\": 75, \"quantity\": 20}, \"1011\": {\"name\": \"Strawberry Bar\", \"price\": 40, \"quantity\": 10}, \"1012\": {\"name\": \"Strawberry Cake\", \"price\": 100, \"quantity\": 15}, \"1013\": {\"name\": \"Strawberry Pudding\", \"price\": 80, \"quantity\": 10}, \"1014\": {\"name\": \"Strawberry Milk Shake\", \"price\": 60, \"quantity\": 15}, \"1015\": {\"name\": \"Strawberry Ice Cream\", \"price\": 75, \"quantity\": 20}, \"1016\": {\"name\": \"Mango Bar\", \"price\": 40, \"quantity\": 10}, \"1017\": {\"name\": \"Mango Cake\", \"price\": 100, \"quantity\": 15}, \"1018\": {\"name\": \"Mango Pudding\", \"price\": 80, \"quantity\": 10}, \"1019\": {\"name\": \"Mango Milk Shake\", \"price\": 60, \"quantity\": 15}, \"1020\": {\"name\": \"Mango Ice Cream\", \"price\": 75, \"quantity\": 20}, \"1021\": {\"name\": \"Raspberry Bar\", \"price\": 40, \"quantity\": 10}, \"1022\": {\"name\": \"Raspberry Cake\", \"price\": 100, \"quantity\": 15}, \"1023\": {\"name\": \"Raspberry Pudding\", \"price\": 80, \"quantity\": 10}, \"1024\": {\"name\": \"Raspberry Milk Shake\", \"price\": 60, \"quantity\": 15}, \"1025\": {\"name\": \"Raspberry Ice Cream\", \"price\": 75, \"quantity\": 20}, \"1026\": {\"name\": \"Butterscotch Bar\", \"price\": 40, \"quantity\": 5}, \"1027\": {\"name\": \"Butterscotch Cake\", \"price\": 140, \"quantity\": 8}, \"1028\": {\"name\": \"Butterscotch Pudding\", \"price\": 80, \"quantity\": 8}, \"1029\": {\"name\": \"Butterscotch Milk Shake\", \"price\": 60, \"quantity\": 10}, \"1030\": {\"name\": \"Butterscotch Ice Cream\", \"price\": 50, \"quantity\": 10}}\n"
          ]
        }
      ]
    },
    {
      "cell_type": "code",
      "metadata": {
        "colab": {
          "base_uri": "https://localhost:8080/"
        },
        "id": "fPHTCxuhvH8P",
        "outputId": "941d3761-8326-4a4d-fd30-14275788b98f"
      },
      "source": [
        ""
      ],
      "execution_count": 19,
      "outputs": [
        {
          "output_type": "stream",
          "name": "stdout",
          "text": [
            "1001\n",
            "1002\n",
            "1003\n",
            "1004\n",
            "1005\n",
            "1006\n",
            "1007\n",
            "1008\n",
            "1009\n",
            "1010\n",
            "1011\n",
            "1012\n",
            "1013\n",
            "1014\n",
            "1015\n",
            "1016\n",
            "1017\n",
            "1018\n",
            "1019\n",
            "1020\n",
            "1021\n",
            "1022\n",
            "1023\n",
            "1024\n",
            "1025\n",
            "1026\n",
            "1027\n",
            "1028\n",
            "1029\n",
            "1030\n"
          ]
        }
      ]
    },
    {
      "cell_type": "code",
      "metadata": {
        "id": "uK02E528vTe7"
      },
      "source": [
        ""
      ],
      "execution_count": null,
      "outputs": []
    }
  ]
}
